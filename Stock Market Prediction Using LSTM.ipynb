{
 "cells": [
  {
   "cell_type": "code",
   "execution_count": 1,
   "metadata": {},
   "outputs": [],
   "source": [
    "import pandas_datareader as pdr"
   ]
  },
  {
   "cell_type": "code",
   "execution_count": 2,
   "metadata": {},
   "outputs": [],
   "source": [
    "df = pdr.get_data_tiingo('AAPL',api_key= 'c98d2a703f1f821f09e035b6e140f0a48f7571d9' )"
   ]
  },
  {
   "cell_type": "code",
   "execution_count": 3,
   "metadata": {},
   "outputs": [],
   "source": [
    "df.to_csv('apple.csv')"
   ]
  },
  {
   "cell_type": "code",
   "execution_count": 4,
   "metadata": {},
   "outputs": [],
   "source": [
    "import pandas as pd"
   ]
  },
  {
   "cell_type": "code",
   "execution_count": 5,
   "metadata": {},
   "outputs": [],
   "source": [
    "data = pd.read_csv('apple.csv')"
   ]
  },
  {
   "cell_type": "code",
   "execution_count": 6,
   "metadata": {},
   "outputs": [
    {
     "data": {
      "text/html": [
       "<div>\n",
       "<style scoped>\n",
       "    .dataframe tbody tr th:only-of-type {\n",
       "        vertical-align: middle;\n",
       "    }\n",
       "\n",
       "    .dataframe tbody tr th {\n",
       "        vertical-align: top;\n",
       "    }\n",
       "\n",
       "    .dataframe thead th {\n",
       "        text-align: right;\n",
       "    }\n",
       "</style>\n",
       "<table border=\"1\" class=\"dataframe\">\n",
       "  <thead>\n",
       "    <tr style=\"text-align: right;\">\n",
       "      <th></th>\n",
       "      <th>symbol</th>\n",
       "      <th>date</th>\n",
       "      <th>close</th>\n",
       "      <th>high</th>\n",
       "      <th>low</th>\n",
       "      <th>open</th>\n",
       "      <th>volume</th>\n",
       "      <th>adjClose</th>\n",
       "      <th>adjHigh</th>\n",
       "      <th>adjLow</th>\n",
       "      <th>adjOpen</th>\n",
       "      <th>adjVolume</th>\n",
       "      <th>divCash</th>\n",
       "      <th>splitFactor</th>\n",
       "    </tr>\n",
       "  </thead>\n",
       "  <tbody>\n",
       "    <tr>\n",
       "      <th>0</th>\n",
       "      <td>AAPL</td>\n",
       "      <td>2015-11-27 00:00:00+00:00</td>\n",
       "      <td>117.81</td>\n",
       "      <td>118.41</td>\n",
       "      <td>117.60</td>\n",
       "      <td>118.29</td>\n",
       "      <td>13046445</td>\n",
       "      <td>27.283451</td>\n",
       "      <td>27.422404</td>\n",
       "      <td>27.234817</td>\n",
       "      <td>27.394613</td>\n",
       "      <td>52185780</td>\n",
       "      <td>0.0</td>\n",
       "      <td>1.0</td>\n",
       "    </tr>\n",
       "    <tr>\n",
       "      <th>1</th>\n",
       "      <td>AAPL</td>\n",
       "      <td>2015-11-30 00:00:00+00:00</td>\n",
       "      <td>118.30</td>\n",
       "      <td>119.41</td>\n",
       "      <td>117.75</td>\n",
       "      <td>117.99</td>\n",
       "      <td>39180322</td>\n",
       "      <td>27.396929</td>\n",
       "      <td>27.653993</td>\n",
       "      <td>27.269555</td>\n",
       "      <td>27.325137</td>\n",
       "      <td>156721288</td>\n",
       "      <td>0.0</td>\n",
       "      <td>1.0</td>\n",
       "    </tr>\n",
       "    <tr>\n",
       "      <th>2</th>\n",
       "      <td>AAPL</td>\n",
       "      <td>2015-12-01 00:00:00+00:00</td>\n",
       "      <td>117.34</td>\n",
       "      <td>118.81</td>\n",
       "      <td>116.86</td>\n",
       "      <td>118.75</td>\n",
       "      <td>34852374</td>\n",
       "      <td>27.174604</td>\n",
       "      <td>27.515039</td>\n",
       "      <td>27.063442</td>\n",
       "      <td>27.501144</td>\n",
       "      <td>139409496</td>\n",
       "      <td>0.0</td>\n",
       "      <td>1.0</td>\n",
       "    </tr>\n",
       "    <tr>\n",
       "      <th>3</th>\n",
       "      <td>AAPL</td>\n",
       "      <td>2015-12-02 00:00:00+00:00</td>\n",
       "      <td>116.28</td>\n",
       "      <td>118.11</td>\n",
       "      <td>116.08</td>\n",
       "      <td>117.05</td>\n",
       "      <td>33386563</td>\n",
       "      <td>26.929120</td>\n",
       "      <td>27.352927</td>\n",
       "      <td>26.882803</td>\n",
       "      <td>27.107443</td>\n",
       "      <td>133546252</td>\n",
       "      <td>0.0</td>\n",
       "      <td>1.0</td>\n",
       "    </tr>\n",
       "    <tr>\n",
       "      <th>4</th>\n",
       "      <td>AAPL</td>\n",
       "      <td>2015-12-03 00:00:00+00:00</td>\n",
       "      <td>115.20</td>\n",
       "      <td>116.79</td>\n",
       "      <td>114.22</td>\n",
       "      <td>116.55</td>\n",
       "      <td>41569509</td>\n",
       "      <td>26.679005</td>\n",
       "      <td>27.047230</td>\n",
       "      <td>26.452048</td>\n",
       "      <td>26.991649</td>\n",
       "      <td>166278036</td>\n",
       "      <td>0.0</td>\n",
       "      <td>1.0</td>\n",
       "    </tr>\n",
       "  </tbody>\n",
       "</table>\n",
       "</div>"
      ],
      "text/plain": [
       "  symbol                       date   close    high     low    open    volume  \\\n",
       "0   AAPL  2015-11-27 00:00:00+00:00  117.81  118.41  117.60  118.29  13046445   \n",
       "1   AAPL  2015-11-30 00:00:00+00:00  118.30  119.41  117.75  117.99  39180322   \n",
       "2   AAPL  2015-12-01 00:00:00+00:00  117.34  118.81  116.86  118.75  34852374   \n",
       "3   AAPL  2015-12-02 00:00:00+00:00  116.28  118.11  116.08  117.05  33386563   \n",
       "4   AAPL  2015-12-03 00:00:00+00:00  115.20  116.79  114.22  116.55  41569509   \n",
       "\n",
       "    adjClose    adjHigh     adjLow    adjOpen  adjVolume  divCash  splitFactor  \n",
       "0  27.283451  27.422404  27.234817  27.394613   52185780      0.0          1.0  \n",
       "1  27.396929  27.653993  27.269555  27.325137  156721288      0.0          1.0  \n",
       "2  27.174604  27.515039  27.063442  27.501144  139409496      0.0          1.0  \n",
       "3  26.929120  27.352927  26.882803  27.107443  133546252      0.0          1.0  \n",
       "4  26.679005  27.047230  26.452048  26.991649  166278036      0.0          1.0  "
      ]
     },
     "execution_count": 6,
     "metadata": {},
     "output_type": "execute_result"
    }
   ],
   "source": [
    "data.head()"
   ]
  },
  {
   "cell_type": "code",
   "execution_count": 7,
   "metadata": {},
   "outputs": [
    {
     "data": {
      "text/plain": [
       "(1257, 14)"
      ]
     },
     "execution_count": 7,
     "metadata": {},
     "output_type": "execute_result"
    }
   ],
   "source": [
    "data.shape"
   ]
  },
  {
   "cell_type": "code",
   "execution_count": 8,
   "metadata": {},
   "outputs": [],
   "source": [
    "df = data.reset_index()['close']"
   ]
  },
  {
   "cell_type": "code",
   "execution_count": 9,
   "metadata": {},
   "outputs": [
    {
     "data": {
      "text/plain": [
       "0       117.81\n",
       "1       118.30\n",
       "2       117.34\n",
       "3       116.28\n",
       "4       115.20\n",
       "         ...  \n",
       "1252    119.39\n",
       "1253    118.03\n",
       "1254    118.64\n",
       "1255    117.34\n",
       "1256    113.85\n",
       "Name: close, Length: 1257, dtype: float64"
      ]
     },
     "execution_count": 9,
     "metadata": {},
     "output_type": "execute_result"
    }
   ],
   "source": [
    "df\n"
   ]
  },
  {
   "cell_type": "code",
   "execution_count": 10,
   "metadata": {},
   "outputs": [
    {
     "data": {
      "text/plain": [
       "[<matplotlib.lines.Line2D at 0x11772c358>]"
      ]
     },
     "execution_count": 10,
     "metadata": {},
     "output_type": "execute_result"
    },
    {
     "data": {
      "image/png": "[encoded data removed]",
      "text/plain": [
       "<Figure size 432x288 with 1 Axes>"
      ]
     },
     "metadata": {
      "needs_background": "light"
     },
     "output_type": "display_data"
    }
   ],
   "source": [
    "import matplotlib.pyplot as plt\n",
    "plt.plot(df)"
   ]
  },
  {
   "cell_type": "code",
   "execution_count": 11,
   "metadata": {},
   "outputs": [],
   "source": [
    "#to Normalize the data using the minmaxscaler"
   ]
  },
  {
   "cell_type": "code",
   "execution_count": 12,
   "metadata": {},
   "outputs": [],
   "source": [
    "import numpy as np"
   ]
  },
  {
   "cell_type": "code",
   "execution_count": 13,
   "metadata": {},
   "outputs": [],
   "source": [
    "from sklearn.preprocessing import MinMaxScaler"
   ]
  },
  {
   "cell_type": "code",
   "execution_count": 14,
   "metadata": {},
   "outputs": [],
   "source": [
    "scaler = MinMaxScaler(feature_range=(0,1))"
   ]
  },
  {
   "cell_type": "code",
   "execution_count": 15,
   "metadata": {},
   "outputs": [],
   "source": [
    "df = scaler.fit_transform(np.array(df).reshape(-1, 1))"
   ]
  },
  {
   "cell_type": "code",
   "execution_count": 16,
   "metadata": {},
   "outputs": [
    {
     "name": "stdout",
     "output_type": "stream",
     "text": [
      "[[0.06607336]\n",
      " [0.06725195]\n",
      " [0.06494287]\n",
      " ...\n",
      " [0.06806975]\n",
      " [0.06494287]\n",
      " [0.05654841]]\n"
     ]
    }
   ],
   "source": [
    "print(df)"
   ]
  },
  {
   "cell_type": "code",
   "execution_count": 17,
   "metadata": {},
   "outputs": [
    {
     "data": {
      "text/plain": [
       "1257"
      ]
     },
     "execution_count": 17,
     "metadata": {},
     "output_type": "execute_result"
    }
   ],
   "source": [
    "len(df)"
   ]
  },
  {
   "cell_type": "code",
   "execution_count": 18,
   "metadata": {},
   "outputs": [],
   "source": [
    "#Splitting into training into training and test dataset of a time series data since the data is dependent on the previous days data\n",
    "training_size = int(len(df)*0.65)\n",
    "test_size = len(df)- training_size"
   ]
  },
  {
   "cell_type": "code",
   "execution_count": 19,
   "metadata": {},
   "outputs": [],
   "source": [
    "train_data,test_data = df[0:training_size,:],df[training_size:len(df),:1]"
   ]
  },
  {
   "cell_type": "code",
   "execution_count": 20,
   "metadata": {},
   "outputs": [
    {
     "data": {
      "text/plain": [
       "(817, 440)"
      ]
     },
     "execution_count": 20,
     "metadata": {},
     "output_type": "execute_result"
    }
   ],
   "source": [
    "training_size,test_size"
   ]
  },
  {
   "cell_type": "code",
   "execution_count": 21,
   "metadata": {},
   "outputs": [
    {
     "data": {
      "text/plain": [
       "817"
      ]
     },
     "execution_count": 21,
     "metadata": {},
     "output_type": "execute_result"
    }
   ],
   "source": [
    "len(train_data)"
   ]
  },
  {
   "cell_type": "code",
   "execution_count": 32,
   "metadata": {},
   "outputs": [],
   "source": [
    "def create_dataset(dataset, time_step = 1):\n",
    "    dataX,dataY = [],[]\n",
    "    for i in range(len(dataset)-time_step-1):\n",
    "        a = dataset[i:(i+time_step),0]\n",
    "        dataX.append(a)\n",
    "        dataY.append(dataset[i+time_step,0])\n",
    "    return np.array(dataX),np.array(dataY)"
   ]
  },
  {
   "cell_type": "code",
   "execution_count": 33,
   "metadata": {},
   "outputs": [],
   "source": [
    "#reshape X into t,t+1..... and y=t+4\n",
    "time_step = 100\n",
    "X_train,y_train = create_dataset(train_data,time_step)\n",
    "X_test,y_test = create_dataset(test_data,time_step)"
   ]
  },
  {
   "cell_type": "code",
   "execution_count": 34,
   "metadata": {},
   "outputs": [
    {
     "name": "stdout",
     "output_type": "stream",
     "text": [
      "(716, 100)\n",
      "(716,)\n"
     ]
    },
    {
     "data": {
      "text/plain": [
       "(None, None)"
      ]
     },
     "execution_count": 34,
     "metadata": {},
     "output_type": "execute_result"
    }
   ],
   "source": [
    "print(X_train.shape), print(y_train.shape)"
   ]
  },
  {
   "cell_type": "code",
   "execution_count": 35,
   "metadata": {},
   "outputs": [
    {
     "name": "stdout",
     "output_type": "stream",
     "text": [
      "[[0.06607336 0.06725195 0.06494287 ... 0.03985568 0.04038485 0.03759471]\n",
      " [0.06725195 0.06494287 0.06239327 ... 0.04038485 0.03759471 0.03689717]\n",
      " [0.06494287 0.06239327 0.05979555 ... 0.03759471 0.03689717 0.035454  ]\n",
      " ...\n",
      " [0.32377631 0.32567649 0.32933253 ... 0.19384245 0.19648827 0.19415514]\n",
      " [0.32567649 0.32933253 0.33419122 ... 0.19648827 0.19415514 0.19874925]\n",
      " [0.32933253 0.33419122 0.34090198 ... 0.19415514 0.19874925 0.20177992]]\n"
     ]
    }
   ],
   "source": [
    "print(X_train)"
   ]
  },
  {
   "cell_type": "code",
   "execution_count": 36,
   "metadata": {},
   "outputs": [
    {
     "name": "stdout",
     "output_type": "stream",
     "text": [
      "(339, 100)\n",
      "(339,)\n"
     ]
    },
    {
     "data": {
      "text/plain": [
       "(None, None)"
      ]
     },
     "execution_count": 36,
     "metadata": {},
     "output_type": "execute_result"
    }
   ],
   "source": [
    "print(X_test.shape),print(y_test.shape)"
   ]
  },
  {
   "cell_type": "code",
   "execution_count": 37,
   "metadata": {},
   "outputs": [],
   "source": [
    "# before using the lstm we have to reshape the x_train and x_test to the 3 dimension\n",
    "# reshape input be like samples,time_steps,features\n",
    "X_train = X_train.reshape(X_train.shape[0],X_train.shape[1],1)\n",
    "X_test = X_test.reshape(X_test.shape[0],X_train.shape[1],1)"
   ]
  },
  {
   "cell_type": "code",
   "execution_count": 38,
   "metadata": {},
   "outputs": [],
   "source": [
    "# Creating the Stacked Lstm\n",
    "from tensorflow.keras.models import Sequential\n",
    "from tensorflow.keras.layers import Dense\n",
    "from tensorflow.keras.layers import LSTM"
   ]
  },
  {
   "cell_type": "code",
   "execution_count": 40,
   "metadata": {},
   "outputs": [],
   "source": [
    "model=Sequential()\n",
    "model.add(LSTM(50,return_sequences = True,input_shape=(100,1)))\n",
    "model.add(LSTM(50,return_sequences = True))\n",
    "model.add(LSTM(50))\n",
    "model.add(Dense(1))\n",
    "model.compile(loss = 'mean_squared_error',optimizer ='adam')"
   ]
  },
  {
   "cell_type": "code",
   "execution_count": 41,
   "metadata": {},
   "outputs": [
    {
     "name": "stdout",
     "output_type": "stream",
     "text": [
      "Model: \"sequential\"\n",
      "_________________________________________________________________\n",
      "Layer (type)                 Output Shape              Param #   \n",
      "=================================================================\n",
      "lstm (LSTM)                  (None, 100, 50)           10400     \n",
      "_________________________________________________________________\n",
      "lstm_1 (LSTM)                (None, 100, 50)           20200     \n",
      "_________________________________________________________________\n",
      "lstm_2 (LSTM)                (None, 50)                20200     \n",
      "_________________________________________________________________\n",
      "dense (Dense)                (None, 1)                 51        \n",
      "=================================================================\n",
      "Total params: 50,851\n",
      "Trainable params: 50,851\n",
      "Non-trainable params: 0\n",
      "_________________________________________________________________\n"
     ]
    }
   ],
   "source": [
    "model.summary()"
   ]
  },
  {
   "cell_type": "code",
   "execution_count": 42,
   "metadata": {},
   "outputs": [
    {
     "name": "stdout",
     "output_type": "stream",
     "text": [
      "Train on 716 samples, validate on 339 samples\n",
      "Epoch 1/100\n",
      "716/716 [==============================] - 8s 11ms/sample - loss: 0.0054 - val_loss: 0.0458\n",
      "Epoch 2/100\n",
      "716/716 [==============================] - 2s 3ms/sample - loss: 0.0013 - val_loss: 0.0232\n",
      "Epoch 3/100\n",
      "716/716 [==============================] - 3s 4ms/sample - loss: 6.3407e-04 - val_loss: 0.0193\n",
      "Epoch 4/100\n",
      "716/716 [==============================] - 3s 4ms/sample - loss: 4.3189e-04 - val_loss: 0.0188\n",
      "Epoch 5/100\n",
      "716/716 [==============================] - 3s 4ms/sample - loss: 3.6046e-04 - val_loss: 0.0185\n",
      "Epoch 6/100\n",
      "716/716 [==============================] - 3s 4ms/sample - loss: 3.2383e-04 - val_loss: 0.0182\n",
      "Epoch 7/100\n",
      "716/716 [==============================] - 3s 4ms/sample - loss: 3.1139e-04 - val_loss: 0.0180\n",
      "Epoch 8/100\n",
      "716/716 [==============================] - 3s 4ms/sample - loss: 3.1240e-04 - val_loss: 0.0173\n",
      "Epoch 9/100\n",
      "716/716 [==============================] - 3s 4ms/sample - loss: 3.1203e-04 - val_loss: 0.0169\n",
      "Epoch 10/100\n",
      "716/716 [==============================] - 3s 4ms/sample - loss: 2.8295e-04 - val_loss: 0.0170\n",
      "Epoch 11/100\n",
      "716/716 [==============================] - 3s 4ms/sample - loss: 2.7127e-04 - val_loss: 0.0160\n",
      "Epoch 12/100\n",
      "716/716 [==============================] - 3s 4ms/sample - loss: 2.7911e-04 - val_loss: 0.0162\n",
      "Epoch 13/100\n",
      "716/716 [==============================] - 3s 4ms/sample - loss: 2.6638e-04 - val_loss: 0.0153\n",
      "Epoch 14/100\n",
      "716/716 [==============================] - 3s 4ms/sample - loss: 2.5019e-04 - val_loss: 0.0151\n",
      "Epoch 15/100\n",
      "716/716 [==============================] - 2s 3ms/sample - loss: 2.3912e-04 - val_loss: 0.0151\n",
      "Epoch 16/100\n",
      "716/716 [==============================] - 2s 3ms/sample - loss: 2.2114e-04 - val_loss: 0.0142\n",
      "Epoch 17/100\n",
      "716/716 [==============================] - 2s 3ms/sample - loss: 2.4906e-04 - val_loss: 0.0162\n",
      "Epoch 18/100\n",
      "716/716 [==============================] - 3s 4ms/sample - loss: 2.6137e-04 - val_loss: 0.0137\n",
      "Epoch 19/100\n",
      "716/716 [==============================] - 3s 4ms/sample - loss: 2.2174e-04 - val_loss: 0.0153\n",
      "Epoch 20/100\n",
      "716/716 [==============================] - 2s 3ms/sample - loss: 2.1447e-04 - val_loss: 0.0143\n",
      "Epoch 21/100\n",
      "716/716 [==============================] - 3s 4ms/sample - loss: 2.0009e-04 - val_loss: 0.0145\n",
      "Epoch 22/100\n",
      "716/716 [==============================] - 3s 4ms/sample - loss: 2.0755e-04 - val_loss: 0.0145\n",
      "Epoch 23/100\n",
      "716/716 [==============================] - 3s 4ms/sample - loss: 1.9440e-04 - val_loss: 0.0140\n",
      "Epoch 24/100\n",
      "716/716 [==============================] - 3s 4ms/sample - loss: 2.0189e-04 - val_loss: 0.0149\n",
      "Epoch 25/100\n",
      "716/716 [==============================] - 3s 4ms/sample - loss: 1.9840e-04 - val_loss: 0.0143\n",
      "Epoch 26/100\n",
      "716/716 [==============================] - 3s 4ms/sample - loss: 1.8638e-04 - val_loss: 0.0153\n",
      "Epoch 27/100\n",
      "716/716 [==============================] - 3s 4ms/sample - loss: 2.1695e-04 - val_loss: 0.0141\n",
      "Epoch 28/100\n",
      "716/716 [==============================] - 3s 4ms/sample - loss: 1.8575e-04 - val_loss: 0.0152\n",
      "Epoch 29/100\n",
      "716/716 [==============================] - 3s 3ms/sample - loss: 1.9073e-04 - val_loss: 0.0147\n",
      "Epoch 30/100\n",
      "716/716 [==============================] - 3s 4ms/sample - loss: 2.0839e-04 - val_loss: 0.0138\n",
      "Epoch 31/100\n",
      "716/716 [==============================] - 3s 4ms/sample - loss: 1.9645e-04 - val_loss: 0.0146\n",
      "Epoch 32/100\n",
      "716/716 [==============================] - 3s 4ms/sample - loss: 1.9311e-04 - val_loss: 0.0137\n",
      "Epoch 33/100\n",
      "716/716 [==============================] - 3s 4ms/sample - loss: 1.8904e-04 - val_loss: 0.0167\n",
      "Epoch 34/100\n",
      "716/716 [==============================] - 3s 3ms/sample - loss: 1.9789e-04 - val_loss: 0.0151\n",
      "Epoch 35/100\n",
      "716/716 [==============================] - 3s 4ms/sample - loss: 2.1914e-04 - val_loss: 0.0149\n",
      "Epoch 36/100\n",
      "716/716 [==============================] - 3s 4ms/sample - loss: 2.0246e-04 - val_loss: 0.0155\n",
      "Epoch 37/100\n",
      "716/716 [==============================] - 2s 3ms/sample - loss: 2.5985e-04 - val_loss: 0.0159\n",
      "Epoch 38/100\n",
      "716/716 [==============================] - 2s 3ms/sample - loss: 1.7351e-04 - val_loss: 0.0177\n",
      "Epoch 39/100\n",
      "716/716 [==============================] - 2s 3ms/sample - loss: 2.1505e-04 - val_loss: 0.0135\n",
      "Epoch 40/100\n",
      "716/716 [==============================] - 3s 3ms/sample - loss: 2.2787e-04 - val_loss: 0.0147\n",
      "Epoch 41/100\n",
      "716/716 [==============================] - 2s 3ms/sample - loss: 1.7585e-04 - val_loss: 0.0152\n",
      "Epoch 42/100\n",
      "716/716 [==============================] - 2s 3ms/sample - loss: 1.7241e-04 - val_loss: 0.0151\n",
      "Epoch 43/100\n",
      "716/716 [==============================] - 2s 3ms/sample - loss: 1.5852e-04 - val_loss: 0.0147\n",
      "Epoch 44/100\n",
      "716/716 [==============================] - 2s 3ms/sample - loss: 1.6405e-04 - val_loss: 0.0164\n",
      "Epoch 45/100\n",
      "716/716 [==============================] - 3s 4ms/sample - loss: 1.6491e-04 - val_loss: 0.0144\n",
      "Epoch 46/100\n",
      "716/716 [==============================] - 2s 3ms/sample - loss: 1.6281e-04 - val_loss: 0.0139\n",
      "Epoch 47/100\n",
      "716/716 [==============================] - 3s 3ms/sample - loss: 1.6776e-04 - val_loss: 0.0131\n",
      "Epoch 48/100\n",
      "716/716 [==============================] - 3s 4ms/sample - loss: 1.6112e-04 - val_loss: 0.0146\n",
      "Epoch 49/100\n",
      "716/716 [==============================] - 2s 3ms/sample - loss: 1.5852e-04 - val_loss: 0.0137\n",
      "Epoch 50/100\n",
      "716/716 [==============================] - 3s 4ms/sample - loss: 1.5796e-04 - val_loss: 0.0159\n",
      "Epoch 51/100\n",
      "716/716 [==============================] - 3s 4ms/sample - loss: 1.7893e-04 - val_loss: 0.0126\n",
      "Epoch 52/100\n",
      "716/716 [==============================] - 3s 4ms/sample - loss: 1.8086e-04 - val_loss: 0.0151\n",
      "Epoch 53/100\n",
      "716/716 [==============================] - 3s 4ms/sample - loss: 2.3362e-04 - val_loss: 0.0142\n",
      "Epoch 54/100\n",
      "716/716 [==============================] - 2s 3ms/sample - loss: 1.9438e-04 - val_loss: 0.0157\n",
      "Epoch 55/100\n",
      "716/716 [==============================] - 2s 3ms/sample - loss: 2.0034e-04 - val_loss: 0.0149\n",
      "Epoch 56/100\n",
      "716/716 [==============================] - 3s 4ms/sample - loss: 1.7048e-04 - val_loss: 0.0141\n",
      "Epoch 57/100\n",
      "716/716 [==============================] - 3s 4ms/sample - loss: 1.4632e-04 - val_loss: 0.0141\n",
      "Epoch 58/100\n",
      "716/716 [==============================] - 2s 3ms/sample - loss: 1.3674e-04 - val_loss: 0.0134\n",
      "Epoch 59/100\n",
      "716/716 [==============================] - 2s 3ms/sample - loss: 1.4792e-04 - val_loss: 0.0133\n",
      "Epoch 60/100\n",
      "716/716 [==============================] - 2s 3ms/sample - loss: 1.4808e-04 - val_loss: 0.0138\n",
      "Epoch 61/100\n",
      "716/716 [==============================] - 2s 3ms/sample - loss: 1.5497e-04 - val_loss: 0.0107\n",
      "Epoch 62/100\n",
      "716/716 [==============================] - 2s 3ms/sample - loss: 1.4921e-04 - val_loss: 0.0115\n",
      "Epoch 63/100\n",
      "716/716 [==============================] - 2s 3ms/sample - loss: 1.4543e-04 - val_loss: 0.0118\n",
      "Epoch 64/100\n",
      "716/716 [==============================] - 2s 3ms/sample - loss: 1.3994e-04 - val_loss: 0.0120\n",
      "Epoch 65/100\n",
      "716/716 [==============================] - 2s 3ms/sample - loss: 1.3361e-04 - val_loss: 0.0119\n",
      "Epoch 66/100\n",
      "716/716 [==============================] - 2s 3ms/sample - loss: 1.3333e-04 - val_loss: 0.0112\n",
      "Epoch 67/100\n",
      "716/716 [==============================] - 3s 4ms/sample - loss: 1.3948e-04 - val_loss: 0.0114\n",
      "Epoch 68/100\n",
      "716/716 [==============================] - 2s 3ms/sample - loss: 1.6149e-04 - val_loss: 0.0118\n",
      "Epoch 69/100\n",
      "716/716 [==============================] - 2s 3ms/sample - loss: 1.3083e-04 - val_loss: 0.0116\n",
      "Epoch 70/100\n",
      "716/716 [==============================] - 2s 3ms/sample - loss: 1.2980e-04 - val_loss: 0.0115\n",
      "Epoch 71/100\n",
      "716/716 [==============================] - 2s 3ms/sample - loss: 1.2749e-04 - val_loss: 0.0117\n",
      "Epoch 72/100\n",
      "716/716 [==============================] - 2s 3ms/sample - loss: 1.2973e-04 - val_loss: 0.0106\n",
      "Epoch 73/100\n",
      "716/716 [==============================] - 2s 3ms/sample - loss: 1.3593e-04 - val_loss: 0.0125\n",
      "Epoch 74/100\n",
      "716/716 [==============================] - 2s 3ms/sample - loss: 1.4143e-04 - val_loss: 0.0103\n",
      "Epoch 75/100\n",
      "716/716 [==============================] - 2s 3ms/sample - loss: 1.3975e-04 - val_loss: 0.0119\n",
      "Epoch 76/100\n"
     ]
    },
    {
     "name": "stdout",
     "output_type": "stream",
     "text": [
      "716/716 [==============================] - 2s 3ms/sample - loss: 1.3777e-04 - val_loss: 0.0107\n",
      "Epoch 77/100\n",
      "716/716 [==============================] - 2s 3ms/sample - loss: 1.3230e-04 - val_loss: 0.0106\n",
      "Epoch 78/100\n",
      "716/716 [==============================] - 2s 3ms/sample - loss: 1.2255e-04 - val_loss: 0.0119\n",
      "Epoch 79/100\n",
      "716/716 [==============================] - 2s 3ms/sample - loss: 1.3947e-04 - val_loss: 0.0098\n",
      "Epoch 80/100\n",
      "716/716 [==============================] - 2s 3ms/sample - loss: 1.3285e-04 - val_loss: 0.0112\n",
      "Epoch 81/100\n",
      "716/716 [==============================] - 2s 3ms/sample - loss: 1.2621e-04 - val_loss: 0.0113\n",
      "Epoch 82/100\n",
      "716/716 [==============================] - 2s 3ms/sample - loss: 1.2059e-04 - val_loss: 0.0098\n",
      "Epoch 83/100\n",
      "716/716 [==============================] - 2s 3ms/sample - loss: 1.1778e-04 - val_loss: 0.0100\n",
      "Epoch 84/100\n",
      "716/716 [==============================] - 2s 3ms/sample - loss: 1.2757e-04 - val_loss: 0.0109\n",
      "Epoch 85/100\n",
      "716/716 [==============================] - 2s 3ms/sample - loss: 1.2280e-04 - val_loss: 0.0090\n",
      "Epoch 86/100\n",
      "716/716 [==============================] - 2s 3ms/sample - loss: 1.4755e-04 - val_loss: 0.0107\n",
      "Epoch 87/100\n",
      "716/716 [==============================] - 2s 3ms/sample - loss: 1.2444e-04 - val_loss: 0.0100\n",
      "Epoch 88/100\n",
      "716/716 [==============================] - 2s 3ms/sample - loss: 1.2431e-04 - val_loss: 0.0100\n",
      "Epoch 89/100\n",
      "716/716 [==============================] - 2s 3ms/sample - loss: 1.0928e-04 - val_loss: 0.0096\n",
      "Epoch 90/100\n",
      "716/716 [==============================] - 2s 3ms/sample - loss: 1.1418e-04 - val_loss: 0.0086\n",
      "Epoch 91/100\n",
      "716/716 [==============================] - 2s 3ms/sample - loss: 1.2644e-04 - val_loss: 0.0077\n",
      "Epoch 92/100\n",
      "716/716 [==============================] - 2s 3ms/sample - loss: 1.2982e-04 - val_loss: 0.0094\n",
      "Epoch 93/100\n",
      "716/716 [==============================] - 2s 3ms/sample - loss: 1.1479e-04 - val_loss: 0.0096\n",
      "Epoch 94/100\n",
      "716/716 [==============================] - 2s 3ms/sample - loss: 1.1102e-04 - val_loss: 0.0079\n",
      "Epoch 95/100\n",
      "716/716 [==============================] - 2s 3ms/sample - loss: 1.1381e-04 - val_loss: 0.0083\n",
      "Epoch 96/100\n",
      "716/716 [==============================] - 2s 3ms/sample - loss: 1.0625e-04 - val_loss: 0.0082\n",
      "Epoch 97/100\n",
      "716/716 [==============================] - 2s 3ms/sample - loss: 1.0349e-04 - val_loss: 0.0078\n",
      "Epoch 98/100\n",
      "716/716 [==============================] - 2s 3ms/sample - loss: 1.0689e-04 - val_loss: 0.0081\n",
      "Epoch 99/100\n",
      "716/716 [==============================] - 2s 3ms/sample - loss: 1.0444e-04 - val_loss: 0.0077\n",
      "Epoch 100/100\n",
      "716/716 [==============================] - 2s 3ms/sample - loss: 1.0160e-04 - val_loss: 0.0077\n"
     ]
    },
    {
     "data": {
      "text/plain": [
       "<tensorflow.python.keras.callbacks.History at 0x1a369f9d68>"
      ]
     },
     "execution_count": 42,
     "metadata": {},
     "output_type": "execute_result"
    }
   ],
   "source": [
    "model.fit(X_train,y_train,validation_data=(X_test,y_test),epochs =100,batch_size=64,verbose=1)"
   ]
  },
  {
   "cell_type": "code",
   "execution_count": 71,
   "metadata": {},
   "outputs": [],
   "source": [
    "train_predict = model.predict(X_train)\n",
    "test_predict = model.predict(X_test)"
   ]
  },
  {
   "cell_type": "code",
   "execution_count": 72,
   "metadata": {},
   "outputs": [],
   "source": [
    "train_predict = scaler.inverse_transform(train_predict)\n",
    "test_predict = scaler.inverse_transform(test_predict)"
   ]
  },
  {
   "cell_type": "code",
   "execution_count": 73,
   "metadata": {},
   "outputs": [
    {
     "data": {
      "text/plain": [
       "158.276293272131"
      ]
     },
     "execution_count": 73,
     "metadata": {},
     "output_type": "execute_result"
    }
   ],
   "source": [
    "import math\n",
    "from sklearn.metrics import mean_squared_error\n",
    "math.sqrt(mean_squared_error(y_train,train_predict))# train_data RMSE"
   ]
  },
  {
   "cell_type": "code",
   "execution_count": 74,
   "metadata": {},
   "outputs": [
    {
     "data": {
      "text/plain": [
       "271.4369917392569"
      ]
     },
     "execution_count": 74,
     "metadata": {},
     "output_type": "execute_result"
    }
   ],
   "source": [
    "#Test data RMSE\n",
    "math.sqrt(mean_squared_error(y_test,test_predict))"
   ]
  },
  {
   "cell_type": "code",
   "execution_count": 75,
   "metadata": {},
   "outputs": [],
   "source": [
    "# shift train predictions for plotting\n",
    "time_step=100\n",
    "trainPredictPlot = np.empty_like(df)\n",
    "trainPredictPlot[:, :] = np.nan\n",
    "trainPredictPlot[time_step:len(train_predict)+time_step, :] = train_predict"
   ]
  },
  {
   "cell_type": "code",
   "execution_count": 76,
   "metadata": {},
   "outputs": [],
   "source": [
    "# shift test predictions for plotting\n",
    "testPredictPlot = np.empty_like(df)\n",
    "testPredictPlot[:, :] = np.nan\n",
    "testPredictPlot[len(train_predict)+(time_step*2)+1:len(df)-1, :] = test_predict"
   ]
  },
  {
   "cell_type": "code",
   "execution_count": 77,
   "metadata": {},
   "outputs": [
    {
     "data": {
      "image/png": "[encoded data removed]",
      "text/plain": [
       "<Figure size 432x288 with 1 Axes>"
      ]
     },
     "metadata": {
      "needs_background": "light"
     },
     "output_type": "display_data"
    }
   ],
   "source": [
    "# plot baseline and predictions\n",
    "plt.plot(scaler.inverse_transform(df))\n",
    "plt.plot(trainPredictPlot)\n",
    "plt.plot(testPredictPlot)\n",
    "plt.show()"
   ]
  },
  {
   "cell_type": "code",
   "execution_count": 78,
   "metadata": {},
   "outputs": [
    {
     "data": {
      "text/plain": [
       "440"
      ]
     },
     "execution_count": 78,
     "metadata": {},
     "output_type": "execute_result"
    }
   ],
   "source": [
    "len(test_data)"
   ]
  },
  {
   "cell_type": "code",
   "execution_count": 79,
   "metadata": {},
   "outputs": [
    {
     "data": {
      "text/plain": [
       "(1, 100)"
      ]
     },
     "execution_count": 79,
     "metadata": {},
     "output_type": "execute_result"
    }
   ],
   "source": [
    "x_input = test_data[340:].reshape(1,-1)\n",
    "x_input.shape"
   ]
  },
  {
   "cell_type": "code",
   "execution_count": 80,
   "metadata": {},
   "outputs": [],
   "source": [
    "temp_input = list(x_input)"
   ]
  },
  {
   "cell_type": "code",
   "execution_count": 81,
   "metadata": {},
   "outputs": [],
   "source": [
    "temp_input = temp_input[0].tolist()"
   ]
  },
  {
   "cell_type": "code",
   "execution_count": 82,
   "metadata": {},
   "outputs": [
    {
     "data": {
      "text/plain": [
       "[0.6819242333132893,\n",
       " 0.6791340950090199,\n",
       " 0.7000120264582081,\n",
       " 0.7039567047504509,\n",
       " 0.7055682501503309,\n",
       " 0.7013108839446784,\n",
       " 0.7165123271196634,\n",
       " 0.7229344558027659,\n",
       " 0.7113650030066145,\n",
       " 0.7094888755261575,\n",
       " 0.7290198436560433,\n",
       " 0.7159591100420926,\n",
       " 0.7185808779314491,\n",
       " 0.6759831629585087,\n",
       " 0.673770294648226,\n",
       " 0.6948887552615755,\n",
       " 0.6799037883343355,\n",
       " 0.6971016235718581,\n",
       " 0.7081659651232712,\n",
       " 0.8050511124473845,\n",
       " 0.830811785929044,\n",
       " 0.8378111846061336,\n",
       " 0.841635598316296,\n",
       " 0.8785808779314492,\n",
       " 0.8517378232110644,\n",
       " 0.8672760072158752,\n",
       " 0.8350210463018641,\n",
       " 0.8699939867708961,\n",
       " 0.8892363199037885,\n",
       " 0.8882501503307276,\n",
       " 0.8853638003607938,\n",
       " 0.89455201443175,\n",
       " 0.8959470835838845,\n",
       " 0.9206494287432352,\n",
       " 0.9792904389657247,\n",
       " 0.9936019242333134,\n",
       " 0.9836680697534577,\n",
       " 1.0,\n",
       " 0.9854479855682503,\n",
       " 0.983499699338545,\n",
       " 0.09308478653036678,\n",
       " 0.10544798556825014,\n",
       " 0.09876127480457003,\n",
       " 0.07345760673481655,\n",
       " 0.07365003006614551,\n",
       " 0.05407095610342749,\n",
       " 0.06489476849067943,\n",
       " 0.055682501503307225,\n",
       " 0.052098616957306054,\n",
       " 0.0601683704149128,\n",
       " 0.06061334936861096,\n",
       " 0.05241130487071555,\n",
       " 0.04810583283223091,\n",
       " 0.03968731208659049,\n",
       " 0.04748045700541187,\n",
       " 0.05164161154539987,\n",
       " 0.04036079374624174,\n",
       " 0.04300661455201443,\n",
       " 0.05277209861695731,\n",
       " 0.05921828021647624,\n",
       " 0.05712567648827421,\n",
       " 0.06126277811184605,\n",
       " 0.06361996392062536,\n",
       " 0.05455201443174984,\n",
       " 0.062922429344558,\n",
       " 0.05488875526157544,\n",
       " 0.059506915213469624,\n",
       " 0.059242333132892344,\n",
       " 0.06405291641611544,\n",
       " 0.08192423331328924,\n",
       " 0.07398677089597111,\n",
       " 0.07420324714371618,\n",
       " 0.07304870715574258,\n",
       " 0.06898376428141911,\n",
       " 0.061671677690920024,\n",
       " 0.06535177390258567,\n",
       " 0.06381238725195432,\n",
       " 0.06111846061334936,\n",
       " 0.059410703547805144,\n",
       " 0.05943475646422125,\n",
       " 0.06316295850871917,\n",
       " 0.05017438364401683,\n",
       " 0.06008418520745634,\n",
       " 0.04454600120264579,\n",
       " 0.04432952495490078,\n",
       " 0.04834636199639203,\n",
       " 0.05919422730006013,\n",
       " 0.06900781719783522,\n",
       " 0.06819001803968727,\n",
       " 0.062489476849067915,\n",
       " 0.06164762477450386,\n",
       " 0.0701142513529765,\n",
       " 0.0694407696933253,\n",
       " 0.06956103427540589,\n",
       " 0.07206253758268188,\n",
       " 0.06987372218881538,\n",
       " 0.0666025255562237,\n",
       " 0.06806975345760674,\n",
       " 0.0649428743235117,\n",
       " 0.056548406494287384]"
      ]
     },
     "execution_count": 82,
     "metadata": {},
     "output_type": "execute_result"
    }
   ],
   "source": [
    "temp_input"
   ]
  },
  {
   "cell_type": "code",
   "execution_count": 83,
   "metadata": {},
   "outputs": [
    {
     "name": "stdout",
     "output_type": "stream",
     "text": [
      "[0.06845586]\n",
      "101\n",
      "1 day input [0.6791341  0.70001203 0.7039567  0.70556825 0.70131088 0.71651233\n",
      " 0.72293446 0.711365   0.70948888 0.72901984 0.71595911 0.71858088\n",
      " 0.67598316 0.67377029 0.69488876 0.67990379 0.69710162 0.70816597\n",
      " 0.80505111 0.83081179 0.83781118 0.8416356  0.87858088 0.85173782\n",
      " 0.86727601 0.83502105 0.86999399 0.88923632 0.88825015 0.8853638\n",
      " 0.89455201 0.89594708 0.92064943 0.97929044 0.99360192 0.98366807\n",
      " 1.         0.98544799 0.9834997  0.09308479 0.10544799 0.09876127\n",
      " 0.07345761 0.07365003 0.05407096 0.06489477 0.0556825  0.05209862\n",
      " 0.06016837 0.06061335 0.0524113  0.04810583 0.03968731 0.04748046\n",
      " 0.05164161 0.04036079 0.04300661 0.0527721  0.05921828 0.05712568\n",
      " 0.06126278 0.06361996 0.05455201 0.06292243 0.05488876 0.05950692\n",
      " 0.05924233 0.06405292 0.08192423 0.07398677 0.07420325 0.07304871\n",
      " 0.06898376 0.06167168 0.06535177 0.06381239 0.06111846 0.0594107\n",
      " 0.05943476 0.06316296 0.05017438 0.06008419 0.044546   0.04432952\n",
      " 0.04834636 0.05919423 0.06900782 0.06819002 0.06248948 0.06164762\n",
      " 0.07011425 0.06944077 0.06956103 0.07206254 0.06987372 0.06660253\n",
      " 0.06806975 0.06494287 0.05654841 0.06845586]\n",
      "1 day output [[0.06715298]]\n",
      "2 day input [0.70001203 0.7039567  0.70556825 0.70131088 0.71651233 0.72293446\n",
      " 0.711365   0.70948888 0.72901984 0.71595911 0.71858088 0.67598316\n",
      " 0.67377029 0.69488876 0.67990379 0.69710162 0.70816597 0.80505111\n",
      " 0.83081179 0.83781118 0.8416356  0.87858088 0.85173782 0.86727601\n",
      " 0.83502105 0.86999399 0.88923632 0.88825015 0.8853638  0.89455201\n",
      " 0.89594708 0.92064943 0.97929044 0.99360192 0.98366807 1.\n",
      " 0.98544799 0.9834997  0.09308479 0.10544799 0.09876127 0.07345761\n",
      " 0.07365003 0.05407096 0.06489477 0.0556825  0.05209862 0.06016837\n",
      " 0.06061335 0.0524113  0.04810583 0.03968731 0.04748046 0.05164161\n",
      " 0.04036079 0.04300661 0.0527721  0.05921828 0.05712568 0.06126278\n",
      " 0.06361996 0.05455201 0.06292243 0.05488876 0.05950692 0.05924233\n",
      " 0.06405292 0.08192423 0.07398677 0.07420325 0.07304871 0.06898376\n",
      " 0.06167168 0.06535177 0.06381239 0.06111846 0.0594107  0.05943476\n",
      " 0.06316296 0.05017438 0.06008419 0.044546   0.04432952 0.04834636\n",
      " 0.05919423 0.06900782 0.06819002 0.06248948 0.06164762 0.07011425\n",
      " 0.06944077 0.06956103 0.07206254 0.06987372 0.06660253 0.06806975\n",
      " 0.06494287 0.05654841 0.06845586 0.06715298]\n",
      "2 day output [[0.06621434]]\n",
      "3 day input [0.7039567  0.70556825 0.70131088 0.71651233 0.72293446 0.711365\n",
      " 0.70948888 0.72901984 0.71595911 0.71858088 0.67598316 0.67377029\n",
      " 0.69488876 0.67990379 0.69710162 0.70816597 0.80505111 0.83081179\n",
      " 0.83781118 0.8416356  0.87858088 0.85173782 0.86727601 0.83502105\n",
      " 0.86999399 0.88923632 0.88825015 0.8853638  0.89455201 0.89594708\n",
      " 0.92064943 0.97929044 0.99360192 0.98366807 1.         0.98544799\n",
      " 0.9834997  0.09308479 0.10544799 0.09876127 0.07345761 0.07365003\n",
      " 0.05407096 0.06489477 0.0556825  0.05209862 0.06016837 0.06061335\n",
      " 0.0524113  0.04810583 0.03968731 0.04748046 0.05164161 0.04036079\n",
      " 0.04300661 0.0527721  0.05921828 0.05712568 0.06126278 0.06361996\n",
      " 0.05455201 0.06292243 0.05488876 0.05950692 0.05924233 0.06405292\n",
      " 0.08192423 0.07398677 0.07420325 0.07304871 0.06898376 0.06167168\n",
      " 0.06535177 0.06381239 0.06111846 0.0594107  0.05943476 0.06316296\n",
      " 0.05017438 0.06008419 0.044546   0.04432952 0.04834636 0.05919423\n",
      " 0.06900782 0.06819002 0.06248948 0.06164762 0.07011425 0.06944077\n",
      " 0.06956103 0.07206254 0.06987372 0.06660253 0.06806975 0.06494287\n",
      " 0.05654841 0.06845586 0.06715298 0.06621434]\n",
      "3 day output [[0.06570967]]\n",
      "4 day input [0.70556825 0.70131088 0.71651233 0.72293446 0.711365   0.70948888\n",
      " 0.72901984 0.71595911 0.71858088 0.67598316 0.67377029 0.69488876\n",
      " 0.67990379 0.69710162 0.70816597 0.80505111 0.83081179 0.83781118\n",
      " 0.8416356  0.87858088 0.85173782 0.86727601 0.83502105 0.86999399\n",
      " 0.88923632 0.88825015 0.8853638  0.89455201 0.89594708 0.92064943\n",
      " 0.97929044 0.99360192 0.98366807 1.         0.98544799 0.9834997\n",
      " 0.09308479 0.10544799 0.09876127 0.07345761 0.07365003 0.05407096\n",
      " 0.06489477 0.0556825  0.05209862 0.06016837 0.06061335 0.0524113\n",
      " 0.04810583 0.03968731 0.04748046 0.05164161 0.04036079 0.04300661\n",
      " 0.0527721  0.05921828 0.05712568 0.06126278 0.06361996 0.05455201\n",
      " 0.06292243 0.05488876 0.05950692 0.05924233 0.06405292 0.08192423\n",
      " 0.07398677 0.07420325 0.07304871 0.06898376 0.06167168 0.06535177\n",
      " 0.06381239 0.06111846 0.0594107  0.05943476 0.06316296 0.05017438\n",
      " 0.06008419 0.044546   0.04432952 0.04834636 0.05919423 0.06900782\n",
      " 0.06819002 0.06248948 0.06164762 0.07011425 0.06944077 0.06956103\n",
      " 0.07206254 0.06987372 0.06660253 0.06806975 0.06494287 0.05654841\n",
      " 0.06845586 0.06715298 0.06621434 0.06570967]\n",
      "4 day output [[0.06557036]]\n",
      "5 day input [0.70131088 0.71651233 0.72293446 0.711365   0.70948888 0.72901984\n",
      " 0.71595911 0.71858088 0.67598316 0.67377029 0.69488876 0.67990379\n",
      " 0.69710162 0.70816597 0.80505111 0.83081179 0.83781118 0.8416356\n",
      " 0.87858088 0.85173782 0.86727601 0.83502105 0.86999399 0.88923632\n",
      " 0.88825015 0.8853638  0.89455201 0.89594708 0.92064943 0.97929044\n",
      " 0.99360192 0.98366807 1.         0.98544799 0.9834997  0.09308479\n",
      " 0.10544799 0.09876127 0.07345761 0.07365003 0.05407096 0.06489477\n",
      " 0.0556825  0.05209862 0.06016837 0.06061335 0.0524113  0.04810583\n",
      " 0.03968731 0.04748046 0.05164161 0.04036079 0.04300661 0.0527721\n",
      " 0.05921828 0.05712568 0.06126278 0.06361996 0.05455201 0.06292243\n",
      " 0.05488876 0.05950692 0.05924233 0.06405292 0.08192423 0.07398677\n",
      " 0.07420325 0.07304871 0.06898376 0.06167168 0.06535177 0.06381239\n",
      " 0.06111846 0.0594107  0.05943476 0.06316296 0.05017438 0.06008419\n",
      " 0.044546   0.04432952 0.04834636 0.05919423 0.06900782 0.06819002\n",
      " 0.06248948 0.06164762 0.07011425 0.06944077 0.06956103 0.07206254\n",
      " 0.06987372 0.06660253 0.06806975 0.06494287 0.05654841 0.06845586\n",
      " 0.06715298 0.06621434 0.06570967 0.06557036]\n",
      "5 day output [[0.06569237]]\n",
      "6 day input [0.71651233 0.72293446 0.711365   0.70948888 0.72901984 0.71595911\n",
      " 0.71858088 0.67598316 0.67377029 0.69488876 0.67990379 0.69710162\n",
      " 0.70816597 0.80505111 0.83081179 0.83781118 0.8416356  0.87858088\n",
      " 0.85173782 0.86727601 0.83502105 0.86999399 0.88923632 0.88825015\n",
      " 0.8853638  0.89455201 0.89594708 0.92064943 0.97929044 0.99360192\n",
      " 0.98366807 1.         0.98544799 0.9834997  0.09308479 0.10544799\n",
      " 0.09876127 0.07345761 0.07365003 0.05407096 0.06489477 0.0556825\n",
      " 0.05209862 0.06016837 0.06061335 0.0524113  0.04810583 0.03968731\n",
      " 0.04748046 0.05164161 0.04036079 0.04300661 0.0527721  0.05921828\n",
      " 0.05712568 0.06126278 0.06361996 0.05455201 0.06292243 0.05488876\n",
      " 0.05950692 0.05924233 0.06405292 0.08192423 0.07398677 0.07420325\n",
      " 0.07304871 0.06898376 0.06167168 0.06535177 0.06381239 0.06111846\n",
      " 0.0594107  0.05943476 0.06316296 0.05017438 0.06008419 0.044546\n",
      " 0.04432952 0.04834636 0.05919423 0.06900782 0.06819002 0.06248948\n",
      " 0.06164762 0.07011425 0.06944077 0.06956103 0.07206254 0.06987372\n",
      " 0.06660253 0.06806975 0.06494287 0.05654841 0.06845586 0.06715298\n",
      " 0.06621434 0.06570967 0.06557036 0.06569237]\n",
      "6 day output [[0.06598373]]\n",
      "7 day input [0.72293446 0.711365   0.70948888 0.72901984 0.71595911 0.71858088\n",
      " 0.67598316 0.67377029 0.69488876 0.67990379 0.69710162 0.70816597\n",
      " 0.80505111 0.83081179 0.83781118 0.8416356  0.87858088 0.85173782\n",
      " 0.86727601 0.83502105 0.86999399 0.88923632 0.88825015 0.8853638\n",
      " 0.89455201 0.89594708 0.92064943 0.97929044 0.99360192 0.98366807\n",
      " 1.         0.98544799 0.9834997  0.09308479 0.10544799 0.09876127\n",
      " 0.07345761 0.07365003 0.05407096 0.06489477 0.0556825  0.05209862\n",
      " 0.06016837 0.06061335 0.0524113  0.04810583 0.03968731 0.04748046\n",
      " 0.05164161 0.04036079 0.04300661 0.0527721  0.05921828 0.05712568\n",
      " 0.06126278 0.06361996 0.05455201 0.06292243 0.05488876 0.05950692\n",
      " 0.05924233 0.06405292 0.08192423 0.07398677 0.07420325 0.07304871\n",
      " 0.06898376 0.06167168 0.06535177 0.06381239 0.06111846 0.0594107\n",
      " 0.05943476 0.06316296 0.05017438 0.06008419 0.044546   0.04432952\n",
      " 0.04834636 0.05919423 0.06900782 0.06819002 0.06248948 0.06164762\n",
      " 0.07011425 0.06944077 0.06956103 0.07206254 0.06987372 0.06660253\n",
      " 0.06806975 0.06494287 0.05654841 0.06845586 0.06715298 0.06621434\n",
      " 0.06570967 0.06557036 0.06569237 0.06598373]\n",
      "7 day output [[0.06637955]]\n",
      "8 day input [0.711365   0.70948888 0.72901984 0.71595911 0.71858088 0.67598316\n",
      " 0.67377029 0.69488876 0.67990379 0.69710162 0.70816597 0.80505111\n",
      " 0.83081179 0.83781118 0.8416356  0.87858088 0.85173782 0.86727601\n",
      " 0.83502105 0.86999399 0.88923632 0.88825015 0.8853638  0.89455201\n",
      " 0.89594708 0.92064943 0.97929044 0.99360192 0.98366807 1.\n",
      " 0.98544799 0.9834997  0.09308479 0.10544799 0.09876127 0.07345761\n",
      " 0.07365003 0.05407096 0.06489477 0.0556825  0.05209862 0.06016837\n",
      " 0.06061335 0.0524113  0.04810583 0.03968731 0.04748046 0.05164161\n",
      " 0.04036079 0.04300661 0.0527721  0.05921828 0.05712568 0.06126278\n",
      " 0.06361996 0.05455201 0.06292243 0.05488876 0.05950692 0.05924233\n",
      " 0.06405292 0.08192423 0.07398677 0.07420325 0.07304871 0.06898376\n",
      " 0.06167168 0.06535177 0.06381239 0.06111846 0.0594107  0.05943476\n",
      " 0.06316296 0.05017438 0.06008419 0.044546   0.04432952 0.04834636\n",
      " 0.05919423 0.06900782 0.06819002 0.06248948 0.06164762 0.07011425\n",
      " 0.06944077 0.06956103 0.07206254 0.06987372 0.06660253 0.06806975\n",
      " 0.06494287 0.05654841 0.06845586 0.06715298 0.06621434 0.06570967\n",
      " 0.06557036 0.06569237 0.06598373 0.06637955]\n"
     ]
    },
    {
     "name": "stdout",
     "output_type": "stream",
     "text": [
      "8 day output [[0.06683931]]\n",
      "9 day input [0.70948888 0.72901984 0.71595911 0.71858088 0.67598316 0.67377029\n",
      " 0.69488876 0.67990379 0.69710162 0.70816597 0.80505111 0.83081179\n",
      " 0.83781118 0.8416356  0.87858088 0.85173782 0.86727601 0.83502105\n",
      " 0.86999399 0.88923632 0.88825015 0.8853638  0.89455201 0.89594708\n",
      " 0.92064943 0.97929044 0.99360192 0.98366807 1.         0.98544799\n",
      " 0.9834997  0.09308479 0.10544799 0.09876127 0.07345761 0.07365003\n",
      " 0.05407096 0.06489477 0.0556825  0.05209862 0.06016837 0.06061335\n",
      " 0.0524113  0.04810583 0.03968731 0.04748046 0.05164161 0.04036079\n",
      " 0.04300661 0.0527721  0.05921828 0.05712568 0.06126278 0.06361996\n",
      " 0.05455201 0.06292243 0.05488876 0.05950692 0.05924233 0.06405292\n",
      " 0.08192423 0.07398677 0.07420325 0.07304871 0.06898376 0.06167168\n",
      " 0.06535177 0.06381239 0.06111846 0.0594107  0.05943476 0.06316296\n",
      " 0.05017438 0.06008419 0.044546   0.04432952 0.04834636 0.05919423\n",
      " 0.06900782 0.06819002 0.06248948 0.06164762 0.07011425 0.06944077\n",
      " 0.06956103 0.07206254 0.06987372 0.06660253 0.06806975 0.06494287\n",
      " 0.05654841 0.06845586 0.06715298 0.06621434 0.06570967 0.06557036\n",
      " 0.06569237 0.06598373 0.06637955 0.06683931]\n",
      "9 day output [[0.06733978]]\n",
      "10 day input [0.72901984 0.71595911 0.71858088 0.67598316 0.67377029 0.69488876\n",
      " 0.67990379 0.69710162 0.70816597 0.80505111 0.83081179 0.83781118\n",
      " 0.8416356  0.87858088 0.85173782 0.86727601 0.83502105 0.86999399\n",
      " 0.88923632 0.88825015 0.8853638  0.89455201 0.89594708 0.92064943\n",
      " 0.97929044 0.99360192 0.98366807 1.         0.98544799 0.9834997\n",
      " 0.09308479 0.10544799 0.09876127 0.07345761 0.07365003 0.05407096\n",
      " 0.06489477 0.0556825  0.05209862 0.06016837 0.06061335 0.0524113\n",
      " 0.04810583 0.03968731 0.04748046 0.05164161 0.04036079 0.04300661\n",
      " 0.0527721  0.05921828 0.05712568 0.06126278 0.06361996 0.05455201\n",
      " 0.06292243 0.05488876 0.05950692 0.05924233 0.06405292 0.08192423\n",
      " 0.07398677 0.07420325 0.07304871 0.06898376 0.06167168 0.06535177\n",
      " 0.06381239 0.06111846 0.0594107  0.05943476 0.06316296 0.05017438\n",
      " 0.06008419 0.044546   0.04432952 0.04834636 0.05919423 0.06900782\n",
      " 0.06819002 0.06248948 0.06164762 0.07011425 0.06944077 0.06956103\n",
      " 0.07206254 0.06987372 0.06660253 0.06806975 0.06494287 0.05654841\n",
      " 0.06845586 0.06715298 0.06621434 0.06570967 0.06557036 0.06569237\n",
      " 0.06598373 0.06637955 0.06683931 0.06733978]\n",
      "10 day output [[0.06786809]]\n",
      "11 day input [0.71595911 0.71858088 0.67598316 0.67377029 0.69488876 0.67990379\n",
      " 0.69710162 0.70816597 0.80505111 0.83081179 0.83781118 0.8416356\n",
      " 0.87858088 0.85173782 0.86727601 0.83502105 0.86999399 0.88923632\n",
      " 0.88825015 0.8853638  0.89455201 0.89594708 0.92064943 0.97929044\n",
      " 0.99360192 0.98366807 1.         0.98544799 0.9834997  0.09308479\n",
      " 0.10544799 0.09876127 0.07345761 0.07365003 0.05407096 0.06489477\n",
      " 0.0556825  0.05209862 0.06016837 0.06061335 0.0524113  0.04810583\n",
      " 0.03968731 0.04748046 0.05164161 0.04036079 0.04300661 0.0527721\n",
      " 0.05921828 0.05712568 0.06126278 0.06361996 0.05455201 0.06292243\n",
      " 0.05488876 0.05950692 0.05924233 0.06405292 0.08192423 0.07398677\n",
      " 0.07420325 0.07304871 0.06898376 0.06167168 0.06535177 0.06381239\n",
      " 0.06111846 0.0594107  0.05943476 0.06316296 0.05017438 0.06008419\n",
      " 0.044546   0.04432952 0.04834636 0.05919423 0.06900782 0.06819002\n",
      " 0.06248948 0.06164762 0.07011425 0.06944077 0.06956103 0.07206254\n",
      " 0.06987372 0.06660253 0.06806975 0.06494287 0.05654841 0.06845586\n",
      " 0.06715298 0.06621434 0.06570967 0.06557036 0.06569237 0.06598373\n",
      " 0.06637955 0.06683931 0.06733978 0.06786809]\n",
      "11 day output [[0.06841634]]\n",
      "12 day input [0.71858088 0.67598316 0.67377029 0.69488876 0.67990379 0.69710162\n",
      " 0.70816597 0.80505111 0.83081179 0.83781118 0.8416356  0.87858088\n",
      " 0.85173782 0.86727601 0.83502105 0.86999399 0.88923632 0.88825015\n",
      " 0.8853638  0.89455201 0.89594708 0.92064943 0.97929044 0.99360192\n",
      " 0.98366807 1.         0.98544799 0.9834997  0.09308479 0.10544799\n",
      " 0.09876127 0.07345761 0.07365003 0.05407096 0.06489477 0.0556825\n",
      " 0.05209862 0.06016837 0.06061335 0.0524113  0.04810583 0.03968731\n",
      " 0.04748046 0.05164161 0.04036079 0.04300661 0.0527721  0.05921828\n",
      " 0.05712568 0.06126278 0.06361996 0.05455201 0.06292243 0.05488876\n",
      " 0.05950692 0.05924233 0.06405292 0.08192423 0.07398677 0.07420325\n",
      " 0.07304871 0.06898376 0.06167168 0.06535177 0.06381239 0.06111846\n",
      " 0.0594107  0.05943476 0.06316296 0.05017438 0.06008419 0.044546\n",
      " 0.04432952 0.04834636 0.05919423 0.06900782 0.06819002 0.06248948\n",
      " 0.06164762 0.07011425 0.06944077 0.06956103 0.07206254 0.06987372\n",
      " 0.06660253 0.06806975 0.06494287 0.05654841 0.06845586 0.06715298\n",
      " 0.06621434 0.06570967 0.06557036 0.06569237 0.06598373 0.06637955\n",
      " 0.06683931 0.06733978 0.06786809 0.06841634]\n",
      "12 day output [[0.06897788]]\n",
      "13 day input [0.67598316 0.67377029 0.69488876 0.67990379 0.69710162 0.70816597\n",
      " 0.80505111 0.83081179 0.83781118 0.8416356  0.87858088 0.85173782\n",
      " 0.86727601 0.83502105 0.86999399 0.88923632 0.88825015 0.8853638\n",
      " 0.89455201 0.89594708 0.92064943 0.97929044 0.99360192 0.98366807\n",
      " 1.         0.98544799 0.9834997  0.09308479 0.10544799 0.09876127\n",
      " 0.07345761 0.07365003 0.05407096 0.06489477 0.0556825  0.05209862\n",
      " 0.06016837 0.06061335 0.0524113  0.04810583 0.03968731 0.04748046\n",
      " 0.05164161 0.04036079 0.04300661 0.0527721  0.05921828 0.05712568\n",
      " 0.06126278 0.06361996 0.05455201 0.06292243 0.05488876 0.05950692\n",
      " 0.05924233 0.06405292 0.08192423 0.07398677 0.07420325 0.07304871\n",
      " 0.06898376 0.06167168 0.06535177 0.06381239 0.06111846 0.0594107\n",
      " 0.05943476 0.06316296 0.05017438 0.06008419 0.044546   0.04432952\n",
      " 0.04834636 0.05919423 0.06900782 0.06819002 0.06248948 0.06164762\n",
      " 0.07011425 0.06944077 0.06956103 0.07206254 0.06987372 0.06660253\n",
      " 0.06806975 0.06494287 0.05654841 0.06845586 0.06715298 0.06621434\n",
      " 0.06570967 0.06557036 0.06569237 0.06598373 0.06637955 0.06683931\n",
      " 0.06733978 0.06786809 0.06841634 0.06897788]\n",
      "13 day output [[0.0695473]]\n",
      "14 day input [0.67377029 0.69488876 0.67990379 0.69710162 0.70816597 0.80505111\n",
      " 0.83081179 0.83781118 0.8416356  0.87858088 0.85173782 0.86727601\n",
      " 0.83502105 0.86999399 0.88923632 0.88825015 0.8853638  0.89455201\n",
      " 0.89594708 0.92064943 0.97929044 0.99360192 0.98366807 1.\n",
      " 0.98544799 0.9834997  0.09308479 0.10544799 0.09876127 0.07345761\n",
      " 0.07365003 0.05407096 0.06489477 0.0556825  0.05209862 0.06016837\n",
      " 0.06061335 0.0524113  0.04810583 0.03968731 0.04748046 0.05164161\n",
      " 0.04036079 0.04300661 0.0527721  0.05921828 0.05712568 0.06126278\n",
      " 0.06361996 0.05455201 0.06292243 0.05488876 0.05950692 0.05924233\n",
      " 0.06405292 0.08192423 0.07398677 0.07420325 0.07304871 0.06898376\n",
      " 0.06167168 0.06535177 0.06381239 0.06111846 0.0594107  0.05943476\n",
      " 0.06316296 0.05017438 0.06008419 0.044546   0.04432952 0.04834636\n",
      " 0.05919423 0.06900782 0.06819002 0.06248948 0.06164762 0.07011425\n",
      " 0.06944077 0.06956103 0.07206254 0.06987372 0.06660253 0.06806975\n",
      " 0.06494287 0.05654841 0.06845586 0.06715298 0.06621434 0.06570967\n",
      " 0.06557036 0.06569237 0.06598373 0.06637955 0.06683931 0.06733978\n",
      " 0.06786809 0.06841634 0.06897788 0.0695473 ]\n",
      "14 day output [[0.07011914]]\n",
      "15 day input [0.69488876 0.67990379 0.69710162 0.70816597 0.80505111 0.83081179\n",
      " 0.83781118 0.8416356  0.87858088 0.85173782 0.86727601 0.83502105\n",
      " 0.86999399 0.88923632 0.88825015 0.8853638  0.89455201 0.89594708\n",
      " 0.92064943 0.97929044 0.99360192 0.98366807 1.         0.98544799\n",
      " 0.9834997  0.09308479 0.10544799 0.09876127 0.07345761 0.07365003\n",
      " 0.05407096 0.06489477 0.0556825  0.05209862 0.06016837 0.06061335\n",
      " 0.0524113  0.04810583 0.03968731 0.04748046 0.05164161 0.04036079\n",
      " 0.04300661 0.0527721  0.05921828 0.05712568 0.06126278 0.06361996\n",
      " 0.05455201 0.06292243 0.05488876 0.05950692 0.05924233 0.06405292\n",
      " 0.08192423 0.07398677 0.07420325 0.07304871 0.06898376 0.06167168\n",
      " 0.06535177 0.06381239 0.06111846 0.0594107  0.05943476 0.06316296\n",
      " 0.05017438 0.06008419 0.044546   0.04432952 0.04834636 0.05919423\n",
      " 0.06900782 0.06819002 0.06248948 0.06164762 0.07011425 0.06944077\n",
      " 0.06956103 0.07206254 0.06987372 0.06660253 0.06806975 0.06494287\n",
      " 0.05654841 0.06845586 0.06715298 0.06621434 0.06570967 0.06557036\n",
      " 0.06569237 0.06598373 0.06637955 0.06683931 0.06733978 0.06786809\n",
      " 0.06841634 0.06897788 0.0695473  0.07011914]\n",
      "15 day output [[0.0706892]]\n",
      "16 day input [0.67990379 0.69710162 0.70816597 0.80505111 0.83081179 0.83781118\n",
      " 0.8416356  0.87858088 0.85173782 0.86727601 0.83502105 0.86999399\n",
      " 0.88923632 0.88825015 0.8853638  0.89455201 0.89594708 0.92064943\n",
      " 0.97929044 0.99360192 0.98366807 1.         0.98544799 0.9834997\n",
      " 0.09308479 0.10544799 0.09876127 0.07345761 0.07365003 0.05407096\n",
      " 0.06489477 0.0556825  0.05209862 0.06016837 0.06061335 0.0524113\n",
      " 0.04810583 0.03968731 0.04748046 0.05164161 0.04036079 0.04300661\n",
      " 0.0527721  0.05921828 0.05712568 0.06126278 0.06361996 0.05455201\n",
      " 0.06292243 0.05488876 0.05950692 0.05924233 0.06405292 0.08192423\n",
      " 0.07398677 0.07420325 0.07304871 0.06898376 0.06167168 0.06535177\n",
      " 0.06381239 0.06111846 0.0594107  0.05943476 0.06316296 0.05017438\n",
      " 0.06008419 0.044546   0.04432952 0.04834636 0.05919423 0.06900782\n",
      " 0.06819002 0.06248948 0.06164762 0.07011425 0.06944077 0.06956103\n",
      " 0.07206254 0.06987372 0.06660253 0.06806975 0.06494287 0.05654841\n",
      " 0.06845586 0.06715298 0.06621434 0.06570967 0.06557036 0.06569237\n",
      " 0.06598373 0.06637955 0.06683931 0.06733978 0.06786809 0.06841634\n",
      " 0.06897788 0.0695473  0.07011914 0.0706892 ]\n",
      "16 day output [[0.0712539]]\n",
      "17 day input [0.69710162 0.70816597 0.80505111 0.83081179 0.83781118 0.8416356\n",
      " 0.87858088 0.85173782 0.86727601 0.83502105 0.86999399 0.88923632\n",
      " 0.88825015 0.8853638  0.89455201 0.89594708 0.92064943 0.97929044\n",
      " 0.99360192 0.98366807 1.         0.98544799 0.9834997  0.09308479\n",
      " 0.10544799 0.09876127 0.07345761 0.07365003 0.05407096 0.06489477\n",
      " 0.0556825  0.05209862 0.06016837 0.06061335 0.0524113  0.04810583\n",
      " 0.03968731 0.04748046 0.05164161 0.04036079 0.04300661 0.0527721\n",
      " 0.05921828 0.05712568 0.06126278 0.06361996 0.05455201 0.06292243\n",
      " 0.05488876 0.05950692 0.05924233 0.06405292 0.08192423 0.07398677\n",
      " 0.07420325 0.07304871 0.06898376 0.06167168 0.06535177 0.06381239\n",
      " 0.06111846 0.0594107  0.05943476 0.06316296 0.05017438 0.06008419\n",
      " 0.044546   0.04432952 0.04834636 0.05919423 0.06900782 0.06819002\n",
      " 0.06248948 0.06164762 0.07011425 0.06944077 0.06956103 0.07206254\n",
      " 0.06987372 0.06660253 0.06806975 0.06494287 0.05654841 0.06845586\n",
      " 0.06715298 0.06621434 0.06570967 0.06557036 0.06569237 0.06598373\n",
      " 0.06637955 0.06683931 0.06733978 0.06786809 0.06841634 0.06897788\n",
      " 0.0695473  0.07011914 0.0706892  0.0712539 ]\n",
      "17 day output [[0.07181014]]\n",
      "18 day input [0.70816597 0.80505111 0.83081179 0.83781118 0.8416356  0.87858088\n",
      " 0.85173782 0.86727601 0.83502105 0.86999399 0.88923632 0.88825015\n",
      " 0.8853638  0.89455201 0.89594708 0.92064943 0.97929044 0.99360192\n",
      " 0.98366807 1.         0.98544799 0.9834997  0.09308479 0.10544799\n",
      " 0.09876127 0.07345761 0.07365003 0.05407096 0.06489477 0.0556825\n",
      " 0.05209862 0.06016837 0.06061335 0.0524113  0.04810583 0.03968731\n",
      " 0.04748046 0.05164161 0.04036079 0.04300661 0.0527721  0.05921828\n",
      " 0.05712568 0.06126278 0.06361996 0.05455201 0.06292243 0.05488876\n",
      " 0.05950692 0.05924233 0.06405292 0.08192423 0.07398677 0.07420325\n",
      " 0.07304871 0.06898376 0.06167168 0.06535177 0.06381239 0.06111846\n",
      " 0.0594107  0.05943476 0.06316296 0.05017438 0.06008419 0.044546\n",
      " 0.04432952 0.04834636 0.05919423 0.06900782 0.06819002 0.06248948\n",
      " 0.06164762 0.07011425 0.06944077 0.06956103 0.07206254 0.06987372\n",
      " 0.06660253 0.06806975 0.06494287 0.05654841 0.06845586 0.06715298\n",
      " 0.06621434 0.06570967 0.06557036 0.06569237 0.06598373 0.06637955\n",
      " 0.06683931 0.06733978 0.06786809 0.06841634 0.06897788 0.0695473\n",
      " 0.07011914 0.0706892  0.0712539  0.07181014]\n"
     ]
    },
    {
     "name": "stdout",
     "output_type": "stream",
     "text": [
      "18 day output [[0.0723564]]\n",
      "19 day input [0.80505111 0.83081179 0.83781118 0.8416356  0.87858088 0.85173782\n",
      " 0.86727601 0.83502105 0.86999399 0.88923632 0.88825015 0.8853638\n",
      " 0.89455201 0.89594708 0.92064943 0.97929044 0.99360192 0.98366807\n",
      " 1.         0.98544799 0.9834997  0.09308479 0.10544799 0.09876127\n",
      " 0.07345761 0.07365003 0.05407096 0.06489477 0.0556825  0.05209862\n",
      " 0.06016837 0.06061335 0.0524113  0.04810583 0.03968731 0.04748046\n",
      " 0.05164161 0.04036079 0.04300661 0.0527721  0.05921828 0.05712568\n",
      " 0.06126278 0.06361996 0.05455201 0.06292243 0.05488876 0.05950692\n",
      " 0.05924233 0.06405292 0.08192423 0.07398677 0.07420325 0.07304871\n",
      " 0.06898376 0.06167168 0.06535177 0.06381239 0.06111846 0.0594107\n",
      " 0.05943476 0.06316296 0.05017438 0.06008419 0.044546   0.04432952\n",
      " 0.04834636 0.05919423 0.06900782 0.06819002 0.06248948 0.06164762\n",
      " 0.07011425 0.06944077 0.06956103 0.07206254 0.06987372 0.06660253\n",
      " 0.06806975 0.06494287 0.05654841 0.06845586 0.06715298 0.06621434\n",
      " 0.06570967 0.06557036 0.06569237 0.06598373 0.06637955 0.06683931\n",
      " 0.06733978 0.06786809 0.06841634 0.06897788 0.0695473  0.07011914\n",
      " 0.0706892  0.0712539  0.07181014 0.0723564 ]\n",
      "19 day output [[0.07289173]]\n",
      "20 day input [0.83081179 0.83781118 0.8416356  0.87858088 0.85173782 0.86727601\n",
      " 0.83502105 0.86999399 0.88923632 0.88825015 0.8853638  0.89455201\n",
      " 0.89594708 0.92064943 0.97929044 0.99360192 0.98366807 1.\n",
      " 0.98544799 0.9834997  0.09308479 0.10544799 0.09876127 0.07345761\n",
      " 0.07365003 0.05407096 0.06489477 0.0556825  0.05209862 0.06016837\n",
      " 0.06061335 0.0524113  0.04810583 0.03968731 0.04748046 0.05164161\n",
      " 0.04036079 0.04300661 0.0527721  0.05921828 0.05712568 0.06126278\n",
      " 0.06361996 0.05455201 0.06292243 0.05488876 0.05950692 0.05924233\n",
      " 0.06405292 0.08192423 0.07398677 0.07420325 0.07304871 0.06898376\n",
      " 0.06167168 0.06535177 0.06381239 0.06111846 0.0594107  0.05943476\n",
      " 0.06316296 0.05017438 0.06008419 0.044546   0.04432952 0.04834636\n",
      " 0.05919423 0.06900782 0.06819002 0.06248948 0.06164762 0.07011425\n",
      " 0.06944077 0.06956103 0.07206254 0.06987372 0.06660253 0.06806975\n",
      " 0.06494287 0.05654841 0.06845586 0.06715298 0.06621434 0.06570967\n",
      " 0.06557036 0.06569237 0.06598373 0.06637955 0.06683931 0.06733978\n",
      " 0.06786809 0.06841634 0.06897788 0.0695473  0.07011914 0.0706892\n",
      " 0.0712539  0.07181014 0.0723564  0.07289173]\n",
      "20 day output [[0.07341652]]\n",
      "21 day input [0.83781118 0.8416356  0.87858088 0.85173782 0.86727601 0.83502105\n",
      " 0.86999399 0.88923632 0.88825015 0.8853638  0.89455201 0.89594708\n",
      " 0.92064943 0.97929044 0.99360192 0.98366807 1.         0.98544799\n",
      " 0.9834997  0.09308479 0.10544799 0.09876127 0.07345761 0.07365003\n",
      " 0.05407096 0.06489477 0.0556825  0.05209862 0.06016837 0.06061335\n",
      " 0.0524113  0.04810583 0.03968731 0.04748046 0.05164161 0.04036079\n",
      " 0.04300661 0.0527721  0.05921828 0.05712568 0.06126278 0.06361996\n",
      " 0.05455201 0.06292243 0.05488876 0.05950692 0.05924233 0.06405292\n",
      " 0.08192423 0.07398677 0.07420325 0.07304871 0.06898376 0.06167168\n",
      " 0.06535177 0.06381239 0.06111846 0.0594107  0.05943476 0.06316296\n",
      " 0.05017438 0.06008419 0.044546   0.04432952 0.04834636 0.05919423\n",
      " 0.06900782 0.06819002 0.06248948 0.06164762 0.07011425 0.06944077\n",
      " 0.06956103 0.07206254 0.06987372 0.06660253 0.06806975 0.06494287\n",
      " 0.05654841 0.06845586 0.06715298 0.06621434 0.06570967 0.06557036\n",
      " 0.06569237 0.06598373 0.06637955 0.06683931 0.06733978 0.06786809\n",
      " 0.06841634 0.06897788 0.0695473  0.07011914 0.0706892  0.0712539\n",
      " 0.07181014 0.0723564  0.07289173 0.07341652]\n",
      "21 day output [[0.07393098]]\n",
      "22 day input [0.8416356  0.87858088 0.85173782 0.86727601 0.83502105 0.86999399\n",
      " 0.88923632 0.88825015 0.8853638  0.89455201 0.89594708 0.92064943\n",
      " 0.97929044 0.99360192 0.98366807 1.         0.98544799 0.9834997\n",
      " 0.09308479 0.10544799 0.09876127 0.07345761 0.07365003 0.05407096\n",
      " 0.06489477 0.0556825  0.05209862 0.06016837 0.06061335 0.0524113\n",
      " 0.04810583 0.03968731 0.04748046 0.05164161 0.04036079 0.04300661\n",
      " 0.0527721  0.05921828 0.05712568 0.06126278 0.06361996 0.05455201\n",
      " 0.06292243 0.05488876 0.05950692 0.05924233 0.06405292 0.08192423\n",
      " 0.07398677 0.07420325 0.07304871 0.06898376 0.06167168 0.06535177\n",
      " 0.06381239 0.06111846 0.0594107  0.05943476 0.06316296 0.05017438\n",
      " 0.06008419 0.044546   0.04432952 0.04834636 0.05919423 0.06900782\n",
      " 0.06819002 0.06248948 0.06164762 0.07011425 0.06944077 0.06956103\n",
      " 0.07206254 0.06987372 0.06660253 0.06806975 0.06494287 0.05654841\n",
      " 0.06845586 0.06715298 0.06621434 0.06570967 0.06557036 0.06569237\n",
      " 0.06598373 0.06637955 0.06683931 0.06733978 0.06786809 0.06841634\n",
      " 0.06897788 0.0695473  0.07011914 0.0706892  0.0712539  0.07181014\n",
      " 0.0723564  0.07289173 0.07341652 0.07393098]\n",
      "22 day output [[0.07443614]]\n",
      "23 day input [0.87858088 0.85173782 0.86727601 0.83502105 0.86999399 0.88923632\n",
      " 0.88825015 0.8853638  0.89455201 0.89594708 0.92064943 0.97929044\n",
      " 0.99360192 0.98366807 1.         0.98544799 0.9834997  0.09308479\n",
      " 0.10544799 0.09876127 0.07345761 0.07365003 0.05407096 0.06489477\n",
      " 0.0556825  0.05209862 0.06016837 0.06061335 0.0524113  0.04810583\n",
      " 0.03968731 0.04748046 0.05164161 0.04036079 0.04300661 0.0527721\n",
      " 0.05921828 0.05712568 0.06126278 0.06361996 0.05455201 0.06292243\n",
      " 0.05488876 0.05950692 0.05924233 0.06405292 0.08192423 0.07398677\n",
      " 0.07420325 0.07304871 0.06898376 0.06167168 0.06535177 0.06381239\n",
      " 0.06111846 0.0594107  0.05943476 0.06316296 0.05017438 0.06008419\n",
      " 0.044546   0.04432952 0.04834636 0.05919423 0.06900782 0.06819002\n",
      " 0.06248948 0.06164762 0.07011425 0.06944077 0.06956103 0.07206254\n",
      " 0.06987372 0.06660253 0.06806975 0.06494287 0.05654841 0.06845586\n",
      " 0.06715298 0.06621434 0.06570967 0.06557036 0.06569237 0.06598373\n",
      " 0.06637955 0.06683931 0.06733978 0.06786809 0.06841634 0.06897788\n",
      " 0.0695473  0.07011914 0.0706892  0.0712539  0.07181014 0.0723564\n",
      " 0.07289173 0.07341652 0.07393098 0.07443614]\n",
      "23 day output [[0.07493339]]\n",
      "24 day input [0.85173782 0.86727601 0.83502105 0.86999399 0.88923632 0.88825015\n",
      " 0.8853638  0.89455201 0.89594708 0.92064943 0.97929044 0.99360192\n",
      " 0.98366807 1.         0.98544799 0.9834997  0.09308479 0.10544799\n",
      " 0.09876127 0.07345761 0.07365003 0.05407096 0.06489477 0.0556825\n",
      " 0.05209862 0.06016837 0.06061335 0.0524113  0.04810583 0.03968731\n",
      " 0.04748046 0.05164161 0.04036079 0.04300661 0.0527721  0.05921828\n",
      " 0.05712568 0.06126278 0.06361996 0.05455201 0.06292243 0.05488876\n",
      " 0.05950692 0.05924233 0.06405292 0.08192423 0.07398677 0.07420325\n",
      " 0.07304871 0.06898376 0.06167168 0.06535177 0.06381239 0.06111846\n",
      " 0.0594107  0.05943476 0.06316296 0.05017438 0.06008419 0.044546\n",
      " 0.04432952 0.04834636 0.05919423 0.06900782 0.06819002 0.06248948\n",
      " 0.06164762 0.07011425 0.06944077 0.06956103 0.07206254 0.06987372\n",
      " 0.06660253 0.06806975 0.06494287 0.05654841 0.06845586 0.06715298\n",
      " 0.06621434 0.06570967 0.06557036 0.06569237 0.06598373 0.06637955\n",
      " 0.06683931 0.06733978 0.06786809 0.06841634 0.06897788 0.0695473\n",
      " 0.07011914 0.0706892  0.0712539  0.07181014 0.0723564  0.07289173\n",
      " 0.07341652 0.07393098 0.07443614 0.07493339]\n",
      "24 day output [[0.07542453]]\n",
      "25 day input [0.86727601 0.83502105 0.86999399 0.88923632 0.88825015 0.8853638\n",
      " 0.89455201 0.89594708 0.92064943 0.97929044 0.99360192 0.98366807\n",
      " 1.         0.98544799 0.9834997  0.09308479 0.10544799 0.09876127\n",
      " 0.07345761 0.07365003 0.05407096 0.06489477 0.0556825  0.05209862\n",
      " 0.06016837 0.06061335 0.0524113  0.04810583 0.03968731 0.04748046\n",
      " 0.05164161 0.04036079 0.04300661 0.0527721  0.05921828 0.05712568\n",
      " 0.06126278 0.06361996 0.05455201 0.06292243 0.05488876 0.05950692\n",
      " 0.05924233 0.06405292 0.08192423 0.07398677 0.07420325 0.07304871\n",
      " 0.06898376 0.06167168 0.06535177 0.06381239 0.06111846 0.0594107\n",
      " 0.05943476 0.06316296 0.05017438 0.06008419 0.044546   0.04432952\n",
      " 0.04834636 0.05919423 0.06900782 0.06819002 0.06248948 0.06164762\n",
      " 0.07011425 0.06944077 0.06956103 0.07206254 0.06987372 0.06660253\n",
      " 0.06806975 0.06494287 0.05654841 0.06845586 0.06715298 0.06621434\n",
      " 0.06570967 0.06557036 0.06569237 0.06598373 0.06637955 0.06683931\n",
      " 0.06733978 0.06786809 0.06841634 0.06897788 0.0695473  0.07011914\n",
      " 0.0706892  0.0712539  0.07181014 0.0723564  0.07289173 0.07341652\n",
      " 0.07393098 0.07443614 0.07493339 0.07542453]\n",
      "25 day output [[0.07591097]]\n",
      "26 day input [0.83502105 0.86999399 0.88923632 0.88825015 0.8853638  0.89455201\n",
      " 0.89594708 0.92064943 0.97929044 0.99360192 0.98366807 1.\n",
      " 0.98544799 0.9834997  0.09308479 0.10544799 0.09876127 0.07345761\n",
      " 0.07365003 0.05407096 0.06489477 0.0556825  0.05209862 0.06016837\n",
      " 0.06061335 0.0524113  0.04810583 0.03968731 0.04748046 0.05164161\n",
      " 0.04036079 0.04300661 0.0527721  0.05921828 0.05712568 0.06126278\n",
      " 0.06361996 0.05455201 0.06292243 0.05488876 0.05950692 0.05924233\n",
      " 0.06405292 0.08192423 0.07398677 0.07420325 0.07304871 0.06898376\n",
      " 0.06167168 0.06535177 0.06381239 0.06111846 0.0594107  0.05943476\n",
      " 0.06316296 0.05017438 0.06008419 0.044546   0.04432952 0.04834636\n",
      " 0.05919423 0.06900782 0.06819002 0.06248948 0.06164762 0.07011425\n",
      " 0.06944077 0.06956103 0.07206254 0.06987372 0.06660253 0.06806975\n",
      " 0.06494287 0.05654841 0.06845586 0.06715298 0.06621434 0.06570967\n",
      " 0.06557036 0.06569237 0.06598373 0.06637955 0.06683931 0.06733978\n",
      " 0.06786809 0.06841634 0.06897788 0.0695473  0.07011914 0.0706892\n",
      " 0.0712539  0.07181014 0.0723564  0.07289173 0.07341652 0.07393098\n",
      " 0.07443614 0.07493339 0.07542453 0.07591097]\n"
     ]
    },
    {
     "name": "stdout",
     "output_type": "stream",
     "text": [
      "26 day output [[0.07639447]]\n",
      "27 day input [0.86999399 0.88923632 0.88825015 0.8853638  0.89455201 0.89594708\n",
      " 0.92064943 0.97929044 0.99360192 0.98366807 1.         0.98544799\n",
      " 0.9834997  0.09308479 0.10544799 0.09876127 0.07345761 0.07365003\n",
      " 0.05407096 0.06489477 0.0556825  0.05209862 0.06016837 0.06061335\n",
      " 0.0524113  0.04810583 0.03968731 0.04748046 0.05164161 0.04036079\n",
      " 0.04300661 0.0527721  0.05921828 0.05712568 0.06126278 0.06361996\n",
      " 0.05455201 0.06292243 0.05488876 0.05950692 0.05924233 0.06405292\n",
      " 0.08192423 0.07398677 0.07420325 0.07304871 0.06898376 0.06167168\n",
      " 0.06535177 0.06381239 0.06111846 0.0594107  0.05943476 0.06316296\n",
      " 0.05017438 0.06008419 0.044546   0.04432952 0.04834636 0.05919423\n",
      " 0.06900782 0.06819002 0.06248948 0.06164762 0.07011425 0.06944077\n",
      " 0.06956103 0.07206254 0.06987372 0.06660253 0.06806975 0.06494287\n",
      " 0.05654841 0.06845586 0.06715298 0.06621434 0.06570967 0.06557036\n",
      " 0.06569237 0.06598373 0.06637955 0.06683931 0.06733978 0.06786809\n",
      " 0.06841634 0.06897788 0.0695473  0.07011914 0.0706892  0.0712539\n",
      " 0.07181014 0.0723564  0.07289173 0.07341652 0.07393098 0.07443614\n",
      " 0.07493339 0.07542453 0.07591097 0.07639447]\n",
      "27 day output [[0.07687648]]\n",
      "28 day input [0.88923632 0.88825015 0.8853638  0.89455201 0.89594708 0.92064943\n",
      " 0.97929044 0.99360192 0.98366807 1.         0.98544799 0.9834997\n",
      " 0.09308479 0.10544799 0.09876127 0.07345761 0.07365003 0.05407096\n",
      " 0.06489477 0.0556825  0.05209862 0.06016837 0.06061335 0.0524113\n",
      " 0.04810583 0.03968731 0.04748046 0.05164161 0.04036079 0.04300661\n",
      " 0.0527721  0.05921828 0.05712568 0.06126278 0.06361996 0.05455201\n",
      " 0.06292243 0.05488876 0.05950692 0.05924233 0.06405292 0.08192423\n",
      " 0.07398677 0.07420325 0.07304871 0.06898376 0.06167168 0.06535177\n",
      " 0.06381239 0.06111846 0.0594107  0.05943476 0.06316296 0.05017438\n",
      " 0.06008419 0.044546   0.04432952 0.04834636 0.05919423 0.06900782\n",
      " 0.06819002 0.06248948 0.06164762 0.07011425 0.06944077 0.06956103\n",
      " 0.07206254 0.06987372 0.06660253 0.06806975 0.06494287 0.05654841\n",
      " 0.06845586 0.06715298 0.06621434 0.06570967 0.06557036 0.06569237\n",
      " 0.06598373 0.06637955 0.06683931 0.06733978 0.06786809 0.06841634\n",
      " 0.06897788 0.0695473  0.07011914 0.0706892  0.0712539  0.07181014\n",
      " 0.0723564  0.07289173 0.07341652 0.07393098 0.07443614 0.07493339\n",
      " 0.07542453 0.07591097 0.07639447 0.07687648]\n",
      "28 day output [[0.0773585]]\n",
      "29 day input [0.88825015 0.8853638  0.89455201 0.89594708 0.92064943 0.97929044\n",
      " 0.99360192 0.98366807 1.         0.98544799 0.9834997  0.09308479\n",
      " 0.10544799 0.09876127 0.07345761 0.07365003 0.05407096 0.06489477\n",
      " 0.0556825  0.05209862 0.06016837 0.06061335 0.0524113  0.04810583\n",
      " 0.03968731 0.04748046 0.05164161 0.04036079 0.04300661 0.0527721\n",
      " 0.05921828 0.05712568 0.06126278 0.06361996 0.05455201 0.06292243\n",
      " 0.05488876 0.05950692 0.05924233 0.06405292 0.08192423 0.07398677\n",
      " 0.07420325 0.07304871 0.06898376 0.06167168 0.06535177 0.06381239\n",
      " 0.06111846 0.0594107  0.05943476 0.06316296 0.05017438 0.06008419\n",
      " 0.044546   0.04432952 0.04834636 0.05919423 0.06900782 0.06819002\n",
      " 0.06248948 0.06164762 0.07011425 0.06944077 0.06956103 0.07206254\n",
      " 0.06987372 0.06660253 0.06806975 0.06494287 0.05654841 0.06845586\n",
      " 0.06715298 0.06621434 0.06570967 0.06557036 0.06569237 0.06598373\n",
      " 0.06637955 0.06683931 0.06733978 0.06786809 0.06841634 0.06897788\n",
      " 0.0695473  0.07011914 0.0706892  0.0712539  0.07181014 0.0723564\n",
      " 0.07289173 0.07341652 0.07393098 0.07443614 0.07493339 0.07542453\n",
      " 0.07591097 0.07639447 0.07687648 0.0773585 ]\n",
      "29 day output [[0.07784167]]\n",
      "[[0.06845586001873016], [0.0671529769897461], [0.06621433794498444], [0.0657096728682518], [0.06557036191225052], [0.06569236516952515], [0.06598372757434845], [0.06637955456972122], [0.0668393149971962], [0.06733977794647217], [0.06786809116601944], [0.06841634213924408], [0.06897787749767303], [0.06954729557037354], [0.07011913508176804], [0.07068920135498047], [0.07125390321016312], [0.07181014120578766], [0.07235639542341232], [0.0728917270898819], [0.07341651618480682], [0.07393097877502441], [0.07443613559007645], [0.07493339478969574], [0.07542452961206436], [0.07591097056865692], [0.0763944685459137], [0.07687648385763168], [0.07735849916934967], [0.07784166932106018]]\n"
     ]
    }
   ],
   "source": [
    "# demonstrate prediction for next 40 days\n",
    "from numpy import array\n",
    "\n",
    "lst_output=[]\n",
    "n_steps=100\n",
    "i=0\n",
    "while(i<30):\n",
    "    \n",
    "    if(len(temp_input)>100):\n",
    "        #print(temp_input)\n",
    "        x_input=np.array(temp_input[1:])\n",
    "        print(\"{} day input {}\".format(i,x_input))\n",
    "        x_input=x_input.reshape(1,-1)\n",
    "        x_input = x_input.reshape((1, n_steps, 1))\n",
    "        #print(x_input)\n",
    "        yhat = model.predict(x_input, verbose=0)\n",
    "        print(\"{} day output {}\".format(i,yhat))\n",
    "        temp_input.extend(yhat[0].tolist())\n",
    "        temp_input=temp_input[1:]\n",
    "        #print(temp_input)\n",
    "        lst_output.extend(yhat.tolist())\n",
    "        i=i+1\n",
    "    else:\n",
    "        x_input = x_input.reshape((1, n_steps,1))\n",
    "        yhat = model.predict(x_input, verbose=0)\n",
    "        print(yhat[0])\n",
    "        temp_input.extend(yhat[0].tolist())\n",
    "        print(len(temp_input))\n",
    "        lst_output.extend(yhat.tolist())\n",
    "        i=i+1\n",
    "    \n",
    "\n",
    "print(lst_output)"
   ]
  },
  {
   "cell_type": "code",
   "execution_count": 90,
   "metadata": {},
   "outputs": [],
   "source": [
    "day_new=np.arange(1,101)\n",
    "day_pred=np.arange(101,131)"
   ]
  },
  {
   "cell_type": "code",
   "execution_count": 85,
   "metadata": {},
   "outputs": [
    {
     "data": {
      "text/plain": [
       "1257"
      ]
     },
     "execution_count": 85,
     "metadata": {},
     "output_type": "execute_result"
    }
   ],
   "source": [
    "len(df)"
   ]
  },
  {
   "cell_type": "code",
   "execution_count": 91,
   "metadata": {},
   "outputs": [
    {
     "data": {
      "text/plain": [
       "[<matplotlib.lines.Line2D at 0x1a3836efd0>]"
      ]
     },
     "execution_count": 91,
     "metadata": {},
     "output_type": "execute_result"
    },
    {
     "data": {
      "image/png": "[encoded data removed]",
      "text/plain": [
       "<Figure size 432x288 with 1 Axes>"
      ]
     },
     "metadata": {
      "needs_background": "light"
     },
     "output_type": "display_data"
    }
   ],
   "source": [
    "plt.plot(day_new,scaler.inverse_transform(df[1157:]))\n",
    "plt.plot(day_pred,scaler.inverse_transform(lst_output))"
   ]
  },
  {
   "cell_type": "code",
   "execution_count": 92,
   "metadata": {},
   "outputs": [
    {
     "data": {
      "text/plain": [
       "[<matplotlib.lines.Line2D at 0x1a3844ba90>]"
      ]
     },
     "execution_count": 92,
     "metadata": {},
     "output_type": "execute_result"
    },
    {
     "data": {
      "image/png": "[encoded data removed]",
      "text/plain": [
       "<Figure size 432x288 with 1 Axes>"
      ]
     },
     "metadata": {
      "needs_background": "light"
     },
     "output_type": "display_data"
    }
   ],
   "source": [
    "df1=df.tolist()\n",
    "df1.extend(lst_output)\n",
    "plt.plot(df1[1200:])"
   ]
  },
  {
   "cell_type": "code",
   "execution_count": 93,
   "metadata": {},
   "outputs": [],
   "source": [
    "df1=scaler.inverse_transform(df1).tolist()"
   ]
  },
  {
   "cell_type": "code",
   "execution_count": null,
   "metadata": {},
   "outputs": [],
   "source": []
  }
 ],
 "metadata": {
  "kernelspec": {
   "display_name": "Python 3",
   "language": "python",
   "name": "python3"
  },
  "language_info": {
   "codemirror_mode": {
    "name": "ipython",
    "version": 3
   },
   "file_extension": ".py",
   "mimetype": "text/x-python",
   "name": "python",
   "nbconvert_exporter": "python",
   "pygments_lexer": "ipython3",
   "version": "3.7.3"
  }
 },
 "nbformat": 4,
 "nbformat_minor": 2
}
